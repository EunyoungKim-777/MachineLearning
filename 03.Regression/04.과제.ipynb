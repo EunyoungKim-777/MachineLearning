{
 "metadata": {
  "language_info": {
   "codemirror_mode": {
    "name": "ipython",
    "version": 3
   },
   "file_extension": ".py",
   "mimetype": "text/x-python",
   "name": "python",
   "nbconvert_exporter": "python",
   "pygments_lexer": "ipython3",
   "version": "3.8.8"
  },
  "orig_nbformat": 4,
  "kernelspec": {
   "name": "python3",
   "display_name": "Python 3.8.8 64-bit ('base': conda)"
  },
  "interpreter": {
   "hash": "b26661d338b6288df508a7ea172ff591d6ed882578e82460ed30bfeb70cfcac3"
  }
 },
 "nbformat": 4,
 "nbformat_minor": 2,
 "cells": [
  {
   "source": [
    "## 0622 과제\n",
    "### 실제값 y_test, 다중 선형 회귀 예측값, 결정 트리 예측값 데이터프레임 만들기"
   ],
   "cell_type": "markdown",
   "metadata": {}
  },
  {
   "cell_type": "code",
   "execution_count": 1,
   "metadata": {},
   "outputs": [],
   "source": [
    "import numpy as np\n",
    "import pandas as pd\n",
    "import matplotlib.pyplot as plt\n",
    "%matplotlib inline"
   ]
  },
  {
   "cell_type": "code",
   "execution_count": 2,
   "metadata": {},
   "outputs": [
    {
     "output_type": "execute_result",
     "data": {
      "text/plain": [
       "        age       sex       bmi        bp        s1        s2        s3  \\\n",
       "0  0.038076  0.050680  0.061696  0.021872 -0.044223 -0.034821 -0.043401   \n",
       "1 -0.001882 -0.044642 -0.051474 -0.026328 -0.008449 -0.019163  0.074412   \n",
       "2  0.085299  0.050680  0.044451 -0.005671 -0.045599 -0.034194 -0.032356   \n",
       "3 -0.089063 -0.044642 -0.011595 -0.036656  0.012191  0.024991 -0.036038   \n",
       "4  0.005383 -0.044642 -0.036385  0.021872  0.003935  0.015596  0.008142   \n",
       "\n",
       "         s4        s5        s6  target  \n",
       "0 -0.002592  0.019908 -0.017646   151.0  \n",
       "1 -0.039493 -0.068330 -0.092204    75.0  \n",
       "2 -0.002592  0.002864 -0.025930   141.0  \n",
       "3  0.034309  0.022692 -0.009362   206.0  \n",
       "4 -0.002592 -0.031991 -0.046641   135.0  "
      ],
      "text/html": "<div>\n<style scoped>\n    .dataframe tbody tr th:only-of-type {\n        vertical-align: middle;\n    }\n\n    .dataframe tbody tr th {\n        vertical-align: top;\n    }\n\n    .dataframe thead th {\n        text-align: right;\n    }\n</style>\n<table border=\"1\" class=\"dataframe\">\n  <thead>\n    <tr style=\"text-align: right;\">\n      <th></th>\n      <th>age</th>\n      <th>sex</th>\n      <th>bmi</th>\n      <th>bp</th>\n      <th>s1</th>\n      <th>s2</th>\n      <th>s3</th>\n      <th>s4</th>\n      <th>s5</th>\n      <th>s6</th>\n      <th>target</th>\n    </tr>\n  </thead>\n  <tbody>\n    <tr>\n      <th>0</th>\n      <td>0.038076</td>\n      <td>0.050680</td>\n      <td>0.061696</td>\n      <td>0.021872</td>\n      <td>-0.044223</td>\n      <td>-0.034821</td>\n      <td>-0.043401</td>\n      <td>-0.002592</td>\n      <td>0.019908</td>\n      <td>-0.017646</td>\n      <td>151.0</td>\n    </tr>\n    <tr>\n      <th>1</th>\n      <td>-0.001882</td>\n      <td>-0.044642</td>\n      <td>-0.051474</td>\n      <td>-0.026328</td>\n      <td>-0.008449</td>\n      <td>-0.019163</td>\n      <td>0.074412</td>\n      <td>-0.039493</td>\n      <td>-0.068330</td>\n      <td>-0.092204</td>\n      <td>75.0</td>\n    </tr>\n    <tr>\n      <th>2</th>\n      <td>0.085299</td>\n      <td>0.050680</td>\n      <td>0.044451</td>\n      <td>-0.005671</td>\n      <td>-0.045599</td>\n      <td>-0.034194</td>\n      <td>-0.032356</td>\n      <td>-0.002592</td>\n      <td>0.002864</td>\n      <td>-0.025930</td>\n      <td>141.0</td>\n    </tr>\n    <tr>\n      <th>3</th>\n      <td>-0.089063</td>\n      <td>-0.044642</td>\n      <td>-0.011595</td>\n      <td>-0.036656</td>\n      <td>0.012191</td>\n      <td>0.024991</td>\n      <td>-0.036038</td>\n      <td>0.034309</td>\n      <td>0.022692</td>\n      <td>-0.009362</td>\n      <td>206.0</td>\n    </tr>\n    <tr>\n      <th>4</th>\n      <td>0.005383</td>\n      <td>-0.044642</td>\n      <td>-0.036385</td>\n      <td>0.021872</td>\n      <td>0.003935</td>\n      <td>0.015596</td>\n      <td>0.008142</td>\n      <td>-0.002592</td>\n      <td>-0.031991</td>\n      <td>-0.046641</td>\n      <td>135.0</td>\n    </tr>\n  </tbody>\n</table>\n</div>"
     },
     "metadata": {},
     "execution_count": 2
    }
   ],
   "source": [
    "from sklearn.datasets import load_diabetes\n",
    "diabetes = load_diabetes()\n",
    "df = pd.DataFrame(diabetes.data, columns = diabetes.feature_names)\n",
    "df['target'] = diabetes.target\n",
    "df.head()"
   ]
  },
  {
   "source": [
    "- train/test 분리"
   ],
   "cell_type": "markdown",
   "metadata": {}
  },
  {
   "cell_type": "code",
   "execution_count": 3,
   "metadata": {},
   "outputs": [],
   "source": [
    "from sklearn.model_selection import train_test_split\n",
    "X_train, X_test, y_train, y_test = train_test_split(\n",
    "   diabetes.data, diabetes.target, test_size=0.1, random_state=2021\n",
    ")"
   ]
  },
  {
   "cell_type": "code",
   "execution_count": 11,
   "metadata": {},
   "outputs": [
    {
     "output_type": "execute_result",
     "data": {
      "text/plain": [
       "LinearRegression()"
      ]
     },
     "metadata": {},
     "execution_count": 11
    }
   ],
   "source": [
    "# 다중 선형회귀\n",
    "from sklearn.linear_model import LinearRegression\n",
    "X = X_train\n",
    "y = y_train\n",
    "lr = LinearRegression()\n",
    "lr.fit(X, y)"
   ]
  },
  {
   "cell_type": "code",
   "execution_count": 12,
   "metadata": {},
   "outputs": [
    {
     "output_type": "execute_result",
     "data": {
      "text/plain": [
       "array([178., 144., 258., 190., 178.,  47., 225., 144., 118., 214.,  55.,\n",
       "       214.,  88., 210., 181., 160.,  99., 173., 197., 257., 143.,  42.,\n",
       "        96.,  55., 275., 274., 150.,  78., 182., 151.,  90., 225.,  73.,\n",
       "        48.,  94.,  77., 187., 281.,  52., 264., 310., 293., 140., 103.,\n",
       "        75.])"
      ]
     },
     "metadata": {},
     "execution_count": 12
    }
   ],
   "source": [
    "# 다중 선형회귀 예측값\n",
    "lr_y_hat = dt.predict(X_test)\n",
    "lr_y_hat "
   ]
  },
  {
   "cell_type": "code",
   "execution_count": 13,
   "metadata": {},
   "outputs": [
    {
     "output_type": "execute_result",
     "data": {
      "text/plain": [
       "DecisionTreeRegressor()"
      ]
     },
     "metadata": {},
     "execution_count": 13
    }
   ],
   "source": [
    "# 결정트리\n",
    "from sklearn.tree import DecisionTreeRegressor\n",
    "X = X_train\n",
    "y = y_train\n",
    "dt = DecisionTreeRegressor()\n",
    "dt.fit(X, y)"
   ]
  },
  {
   "cell_type": "code",
   "execution_count": 14,
   "metadata": {},
   "outputs": [
    {
     "output_type": "execute_result",
     "data": {
      "text/plain": [
       "array([127., 144., 258., 190., 178.,  47., 173., 127.,  84., 214.,  55.,\n",
       "       214., 113., 210., 181., 150.,  78., 150., 202., 259., 128.,  42.,\n",
       "        96.,  63., 275., 274., 168.,  99., 182., 164.,  90., 168., 109.,\n",
       "        48., 185.,  97., 187., 281.,  78., 243., 310., 259., 140.,  96.,\n",
       "        66.])"
      ]
     },
     "metadata": {},
     "execution_count": 14
    }
   ],
   "source": [
    "# 결정트리 예측값\n",
    "dt_y_hat = dt.predict(X_test)\n",
    "dt_y_hat"
   ]
  },
  {
   "cell_type": "code",
   "execution_count": 15,
   "metadata": {},
   "outputs": [
    {
     "output_type": "execute_result",
     "data": {
      "text/plain": [
       "array([155., 167., 185., 109.,  65.,  77., 277., 244., 148., 102., 200.,\n",
       "       162.,  59., 147., 216., 144.,  85., 131., 196., 212.,  60., 252.,\n",
       "       121.,  78., 275., 336., 190., 221., 103., 156., 235., 102., 115.,\n",
       "       276., 140.,  83.,  95., 151., 141., 128., 217., 170., 110., 191.,\n",
       "        91.])"
      ]
     },
     "metadata": {},
     "execution_count": 15
    }
   ],
   "source": [
    "# 실제값\n",
    "y_test"
   ]
  },
  {
   "cell_type": "code",
   "execution_count": 20,
   "metadata": {},
   "outputs": [
    {
     "output_type": "execute_result",
     "data": {
      "text/plain": [
       "       y     dt     lr\n",
       "0  155.0  127.0  178.0\n",
       "1  167.0  144.0  144.0\n",
       "2  185.0  258.0  258.0\n",
       "3  109.0  190.0  190.0\n",
       "4   65.0  178.0  178.0"
      ],
      "text/html": "<div>\n<style scoped>\n    .dataframe tbody tr th:only-of-type {\n        vertical-align: middle;\n    }\n\n    .dataframe tbody tr th {\n        vertical-align: top;\n    }\n\n    .dataframe thead th {\n        text-align: right;\n    }\n</style>\n<table border=\"1\" class=\"dataframe\">\n  <thead>\n    <tr style=\"text-align: right;\">\n      <th></th>\n      <th>y</th>\n      <th>dt</th>\n      <th>lr</th>\n    </tr>\n  </thead>\n  <tbody>\n    <tr>\n      <th>0</th>\n      <td>155.0</td>\n      <td>127.0</td>\n      <td>178.0</td>\n    </tr>\n    <tr>\n      <th>1</th>\n      <td>167.0</td>\n      <td>144.0</td>\n      <td>144.0</td>\n    </tr>\n    <tr>\n      <th>2</th>\n      <td>185.0</td>\n      <td>258.0</td>\n      <td>258.0</td>\n    </tr>\n    <tr>\n      <th>3</th>\n      <td>109.0</td>\n      <td>190.0</td>\n      <td>190.0</td>\n    </tr>\n    <tr>\n      <th>4</th>\n      <td>65.0</td>\n      <td>178.0</td>\n      <td>178.0</td>\n    </tr>\n  </tbody>\n</table>\n</div>"
     },
     "metadata": {},
     "execution_count": 20
    }
   ],
   "source": [
    "df = pd.DataFrame({'y':y_test, 'dt':dt_y_hat, 'lr':lr_y_hat})\n",
    "df.head()"
   ]
  },
  {
   "cell_type": "code",
   "execution_count": 21,
   "metadata": {},
   "outputs": [
    {
     "output_type": "execute_result",
     "data": {
      "text/plain": [
       "        y     dt     lr\n",
       "0   155.0  127.0  178.0\n",
       "1   167.0  144.0  144.0\n",
       "2   185.0  258.0  258.0\n",
       "3   109.0  190.0  190.0\n",
       "4    65.0  178.0  178.0\n",
       "5    77.0   47.0   47.0\n",
       "6   277.0  173.0  225.0\n",
       "7   244.0  127.0  144.0\n",
       "8   148.0   84.0  118.0\n",
       "9   102.0  214.0  214.0\n",
       "10  200.0   55.0   55.0\n",
       "11  162.0  214.0  214.0\n",
       "12   59.0  113.0   88.0\n",
       "13  147.0  210.0  210.0\n",
       "14  216.0  181.0  181.0\n",
       "15  144.0  150.0  160.0\n",
       "16   85.0   78.0   99.0\n",
       "17  131.0  150.0  173.0\n",
       "18  196.0  202.0  197.0\n",
       "19  212.0  259.0  257.0\n",
       "20   60.0  128.0  143.0\n",
       "21  252.0   42.0   42.0\n",
       "22  121.0   96.0   96.0\n",
       "23   78.0   63.0   55.0\n",
       "24  275.0  275.0  275.0\n",
       "25  336.0  274.0  274.0\n",
       "26  190.0  168.0  150.0\n",
       "27  221.0   99.0   78.0\n",
       "28  103.0  182.0  182.0\n",
       "29  156.0  164.0  151.0\n",
       "30  235.0   90.0   90.0\n",
       "31  102.0  168.0  225.0\n",
       "32  115.0  109.0   73.0\n",
       "33  276.0   48.0   48.0\n",
       "34  140.0  185.0   94.0\n",
       "35   83.0   97.0   77.0\n",
       "36   95.0  187.0  187.0\n",
       "37  151.0  281.0  281.0\n",
       "38  141.0   78.0   52.0\n",
       "39  128.0  243.0  264.0\n",
       "40  217.0  310.0  310.0\n",
       "41  170.0  259.0  293.0\n",
       "42  110.0  140.0  140.0\n",
       "43  191.0   96.0  103.0\n",
       "44   91.0   66.0   75.0"
      ],
      "text/html": "<div>\n<style scoped>\n    .dataframe tbody tr th:only-of-type {\n        vertical-align: middle;\n    }\n\n    .dataframe tbody tr th {\n        vertical-align: top;\n    }\n\n    .dataframe thead th {\n        text-align: right;\n    }\n</style>\n<table border=\"1\" class=\"dataframe\">\n  <thead>\n    <tr style=\"text-align: right;\">\n      <th></th>\n      <th>y</th>\n      <th>dt</th>\n      <th>lr</th>\n    </tr>\n  </thead>\n  <tbody>\n    <tr>\n      <th>0</th>\n      <td>155.0</td>\n      <td>127.0</td>\n      <td>178.0</td>\n    </tr>\n    <tr>\n      <th>1</th>\n      <td>167.0</td>\n      <td>144.0</td>\n      <td>144.0</td>\n    </tr>\n    <tr>\n      <th>2</th>\n      <td>185.0</td>\n      <td>258.0</td>\n      <td>258.0</td>\n    </tr>\n    <tr>\n      <th>3</th>\n      <td>109.0</td>\n      <td>190.0</td>\n      <td>190.0</td>\n    </tr>\n    <tr>\n      <th>4</th>\n      <td>65.0</td>\n      <td>178.0</td>\n      <td>178.0</td>\n    </tr>\n    <tr>\n      <th>5</th>\n      <td>77.0</td>\n      <td>47.0</td>\n      <td>47.0</td>\n    </tr>\n    <tr>\n      <th>6</th>\n      <td>277.0</td>\n      <td>173.0</td>\n      <td>225.0</td>\n    </tr>\n    <tr>\n      <th>7</th>\n      <td>244.0</td>\n      <td>127.0</td>\n      <td>144.0</td>\n    </tr>\n    <tr>\n      <th>8</th>\n      <td>148.0</td>\n      <td>84.0</td>\n      <td>118.0</td>\n    </tr>\n    <tr>\n      <th>9</th>\n      <td>102.0</td>\n      <td>214.0</td>\n      <td>214.0</td>\n    </tr>\n    <tr>\n      <th>10</th>\n      <td>200.0</td>\n      <td>55.0</td>\n      <td>55.0</td>\n    </tr>\n    <tr>\n      <th>11</th>\n      <td>162.0</td>\n      <td>214.0</td>\n      <td>214.0</td>\n    </tr>\n    <tr>\n      <th>12</th>\n      <td>59.0</td>\n      <td>113.0</td>\n      <td>88.0</td>\n    </tr>\n    <tr>\n      <th>13</th>\n      <td>147.0</td>\n      <td>210.0</td>\n      <td>210.0</td>\n    </tr>\n    <tr>\n      <th>14</th>\n      <td>216.0</td>\n      <td>181.0</td>\n      <td>181.0</td>\n    </tr>\n    <tr>\n      <th>15</th>\n      <td>144.0</td>\n      <td>150.0</td>\n      <td>160.0</td>\n    </tr>\n    <tr>\n      <th>16</th>\n      <td>85.0</td>\n      <td>78.0</td>\n      <td>99.0</td>\n    </tr>\n    <tr>\n      <th>17</th>\n      <td>131.0</td>\n      <td>150.0</td>\n      <td>173.0</td>\n    </tr>\n    <tr>\n      <th>18</th>\n      <td>196.0</td>\n      <td>202.0</td>\n      <td>197.0</td>\n    </tr>\n    <tr>\n      <th>19</th>\n      <td>212.0</td>\n      <td>259.0</td>\n      <td>257.0</td>\n    </tr>\n    <tr>\n      <th>20</th>\n      <td>60.0</td>\n      <td>128.0</td>\n      <td>143.0</td>\n    </tr>\n    <tr>\n      <th>21</th>\n      <td>252.0</td>\n      <td>42.0</td>\n      <td>42.0</td>\n    </tr>\n    <tr>\n      <th>22</th>\n      <td>121.0</td>\n      <td>96.0</td>\n      <td>96.0</td>\n    </tr>\n    <tr>\n      <th>23</th>\n      <td>78.0</td>\n      <td>63.0</td>\n      <td>55.0</td>\n    </tr>\n    <tr>\n      <th>24</th>\n      <td>275.0</td>\n      <td>275.0</td>\n      <td>275.0</td>\n    </tr>\n    <tr>\n      <th>25</th>\n      <td>336.0</td>\n      <td>274.0</td>\n      <td>274.0</td>\n    </tr>\n    <tr>\n      <th>26</th>\n      <td>190.0</td>\n      <td>168.0</td>\n      <td>150.0</td>\n    </tr>\n    <tr>\n      <th>27</th>\n      <td>221.0</td>\n      <td>99.0</td>\n      <td>78.0</td>\n    </tr>\n    <tr>\n      <th>28</th>\n      <td>103.0</td>\n      <td>182.0</td>\n      <td>182.0</td>\n    </tr>\n    <tr>\n      <th>29</th>\n      <td>156.0</td>\n      <td>164.0</td>\n      <td>151.0</td>\n    </tr>\n    <tr>\n      <th>30</th>\n      <td>235.0</td>\n      <td>90.0</td>\n      <td>90.0</td>\n    </tr>\n    <tr>\n      <th>31</th>\n      <td>102.0</td>\n      <td>168.0</td>\n      <td>225.0</td>\n    </tr>\n    <tr>\n      <th>32</th>\n      <td>115.0</td>\n      <td>109.0</td>\n      <td>73.0</td>\n    </tr>\n    <tr>\n      <th>33</th>\n      <td>276.0</td>\n      <td>48.0</td>\n      <td>48.0</td>\n    </tr>\n    <tr>\n      <th>34</th>\n      <td>140.0</td>\n      <td>185.0</td>\n      <td>94.0</td>\n    </tr>\n    <tr>\n      <th>35</th>\n      <td>83.0</td>\n      <td>97.0</td>\n      <td>77.0</td>\n    </tr>\n    <tr>\n      <th>36</th>\n      <td>95.0</td>\n      <td>187.0</td>\n      <td>187.0</td>\n    </tr>\n    <tr>\n      <th>37</th>\n      <td>151.0</td>\n      <td>281.0</td>\n      <td>281.0</td>\n    </tr>\n    <tr>\n      <th>38</th>\n      <td>141.0</td>\n      <td>78.0</td>\n      <td>52.0</td>\n    </tr>\n    <tr>\n      <th>39</th>\n      <td>128.0</td>\n      <td>243.0</td>\n      <td>264.0</td>\n    </tr>\n    <tr>\n      <th>40</th>\n      <td>217.0</td>\n      <td>310.0</td>\n      <td>310.0</td>\n    </tr>\n    <tr>\n      <th>41</th>\n      <td>170.0</td>\n      <td>259.0</td>\n      <td>293.0</td>\n    </tr>\n    <tr>\n      <th>42</th>\n      <td>110.0</td>\n      <td>140.0</td>\n      <td>140.0</td>\n    </tr>\n    <tr>\n      <th>43</th>\n      <td>191.0</td>\n      <td>96.0</td>\n      <td>103.0</td>\n    </tr>\n    <tr>\n      <th>44</th>\n      <td>91.0</td>\n      <td>66.0</td>\n      <td>75.0</td>\n    </tr>\n  </tbody>\n</table>\n</div>"
     },
     "metadata": {},
     "execution_count": 21
    }
   ],
   "source": [
    "df"
   ]
  }
 ]
}