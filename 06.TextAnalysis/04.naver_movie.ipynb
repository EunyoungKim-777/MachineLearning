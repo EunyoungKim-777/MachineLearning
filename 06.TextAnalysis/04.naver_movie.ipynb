{
 "metadata": {
  "language_info": {
   "codemirror_mode": {
    "name": "ipython",
    "version": 3
   },
   "file_extension": ".py",
   "mimetype": "text/x-python",
   "name": "python",
   "nbconvert_exporter": "python",
   "pygments_lexer": "ipython3",
   "version": "3.8.8"
  },
  "orig_nbformat": 4,
  "kernelspec": {
   "name": "python3",
   "display_name": "Python 3.8.8 64-bit ('base': conda)"
  },
  "interpreter": {
   "hash": "b26661d338b6288df508a7ea172ff591d6ed882578e82460ed30bfeb70cfcac3"
  }
 },
 "nbformat": 4,
 "nbformat_minor": 2,
 "cells": [
  {
   "cell_type": "code",
   "execution_count": 1,
   "metadata": {},
   "outputs": [],
   "source": [
    "import pandas as pd\n",
    "import numpy as np\n",
    "import matplotlib.pyplot as plt\n",
    "%matplotlib inline"
   ]
  },
  {
   "cell_type": "code",
   "execution_count": 2,
   "metadata": {},
   "outputs": [
    {
     "output_type": "execute_result",
     "data": {
      "text/plain": [
       "         id                           document  label\n",
       "0   9976970                아 더빙.. 진짜 짜증나네요 목소리      0\n",
       "1   3819312  흠...포스터보고 초딩영화줄....오버연기조차 가볍지 않구나      1\n",
       "2  10265843                  너무재밓었다그래서보는것을추천한다      0"
      ],
      "text/html": "<div>\n<style scoped>\n    .dataframe tbody tr th:only-of-type {\n        vertical-align: middle;\n    }\n\n    .dataframe tbody tr th {\n        vertical-align: top;\n    }\n\n    .dataframe thead th {\n        text-align: right;\n    }\n</style>\n<table border=\"1\" class=\"dataframe\">\n  <thead>\n    <tr style=\"text-align: right;\">\n      <th></th>\n      <th>id</th>\n      <th>document</th>\n      <th>label</th>\n    </tr>\n  </thead>\n  <tbody>\n    <tr>\n      <th>0</th>\n      <td>9976970</td>\n      <td>아 더빙.. 진짜 짜증나네요 목소리</td>\n      <td>0</td>\n    </tr>\n    <tr>\n      <th>1</th>\n      <td>3819312</td>\n      <td>흠...포스터보고 초딩영화줄....오버연기조차 가볍지 않구나</td>\n      <td>1</td>\n    </tr>\n    <tr>\n      <th>2</th>\n      <td>10265843</td>\n      <td>너무재밓었다그래서보는것을추천한다</td>\n      <td>0</td>\n    </tr>\n  </tbody>\n</table>\n</div>"
     },
     "metadata": {},
     "execution_count": 2
    }
   ],
   "source": [
    "# '네이버 영화 리뷰 데이터' 로 검색\n",
    "train_df = pd.read_csv(\"https://raw.githubusercontent.com/e9t/nsmc/master/ratings_train.txt\", sep='\\t')\n",
    "test_df = pd.read_csv(\"https://raw.githubusercontent.com/e9t/nsmc/master/ratings_test.txt\", sep='\\t')\n",
    "\n",
    "train_df.head(3)"
   ]
  },
  {
   "cell_type": "code",
   "execution_count": 3,
   "metadata": {},
   "outputs": [
    {
     "output_type": "execute_result",
     "data": {
      "text/plain": [
       "((150000, 3), (50000, 3))"
      ]
     },
     "metadata": {},
     "execution_count": 3
    }
   ],
   "source": [
    "train_df.shape, test_df.shape"
   ]
  },
  {
   "source": [
    "### 1. 데이터 전처리"
   ],
   "cell_type": "markdown",
   "metadata": {}
  },
  {
   "source": [
    "- train data set"
   ],
   "cell_type": "markdown",
   "metadata": {}
  },
  {
   "cell_type": "code",
   "execution_count": 4,
   "metadata": {},
   "outputs": [
    {
     "output_type": "execute_result",
     "data": {
      "text/plain": [
       "146182"
      ]
     },
     "metadata": {},
     "execution_count": 4
    }
   ],
   "source": [
    "# 중복 여부 확인\n",
    "train_df.document.nunique()"
   ]
  },
  {
   "cell_type": "code",
   "execution_count": 5,
   "metadata": {},
   "outputs": [
    {
     "output_type": "execute_result",
     "data": {
      "text/plain": [
       "(146183, 3)"
      ]
     },
     "metadata": {},
     "execution_count": 5
    }
   ],
   "source": [
    "# 중복 데이터 제거\n",
    "train_df.drop_duplicates(subset=['document'], inplace=True)\n",
    "train_df.shape"
   ]
  },
  {
   "cell_type": "code",
   "execution_count": 6,
   "metadata": {},
   "outputs": [
    {
     "output_type": "execute_result",
     "data": {
      "text/plain": [
       "id          0\n",
       "document    1\n",
       "label       0\n",
       "dtype: int64"
      ]
     },
     "metadata": {},
     "execution_count": 6
    }
   ],
   "source": [
    "# 결측치 있는지 확인\n",
    "train_df.isnull().sum()"
   ]
  },
  {
   "cell_type": "code",
   "execution_count": 7,
   "metadata": {},
   "outputs": [
    {
     "output_type": "execute_result",
     "data": {
      "text/plain": [
       "(146182, 3)"
      ]
     },
     "metadata": {},
     "execution_count": 7
    }
   ],
   "source": [
    "# 결측치 제거\n",
    "train_df = train_df.dropna(how='any')\n",
    "train_df.shape"
   ]
  },
  {
   "cell_type": "code",
   "execution_count": 8,
   "metadata": {},
   "outputs": [
    {
     "output_type": "execute_result",
     "data": {
      "text/plain": [
       "0    73342\n",
       "1    72840\n",
       "Name: label, dtype: int64"
      ]
     },
     "metadata": {},
     "execution_count": 8
    }
   ],
   "source": [
    "train_df.label.value_counts()  # 확인"
   ]
  },
  {
   "source": [
    "- test data set"
   ],
   "cell_type": "markdown",
   "metadata": {}
  },
  {
   "cell_type": "code",
   "execution_count": 9,
   "metadata": {},
   "outputs": [
    {
     "output_type": "execute_result",
     "data": {
      "text/plain": [
       "49157"
      ]
     },
     "metadata": {},
     "execution_count": 9
    }
   ],
   "source": [
    "# 중복 여부 확인\n",
    "test_df.document.nunique()"
   ]
  },
  {
   "cell_type": "code",
   "execution_count": 10,
   "metadata": {},
   "outputs": [
    {
     "output_type": "execute_result",
     "data": {
      "text/plain": [
       "(49158, 3)"
      ]
     },
     "metadata": {},
     "execution_count": 10
    }
   ],
   "source": [
    "# 중복 데이터 제거\n",
    "test_df.drop_duplicates(subset=['document'], inplace=True)\n",
    "test_df.shape"
   ]
  },
  {
   "cell_type": "code",
   "execution_count": 11,
   "metadata": {},
   "outputs": [
    {
     "output_type": "execute_result",
     "data": {
      "text/plain": [
       "id          0\n",
       "document    1\n",
       "label       0\n",
       "dtype: int64"
      ]
     },
     "metadata": {},
     "execution_count": 11
    }
   ],
   "source": [
    "# 결측치 있는지 확인\n",
    "test_df.isnull().sum()"
   ]
  },
  {
   "cell_type": "code",
   "execution_count": 12,
   "metadata": {},
   "outputs": [
    {
     "output_type": "execute_result",
     "data": {
      "text/plain": [
       "(49157, 3)"
      ]
     },
     "metadata": {},
     "execution_count": 12
    }
   ],
   "source": [
    "# 결측치 제거\n",
    "test_df = test_df.dropna(how='any')\n",
    "test_df.shape   # 확인"
   ]
  },
  {
   "source": [
    "### 2. 텍스트 전처리"
   ],
   "cell_type": "markdown",
   "metadata": {}
  },
  {
   "source": [
    "- train data set"
   ],
   "cell_type": "markdown",
   "metadata": {}
  },
  {
   "cell_type": "code",
   "execution_count": 13,
   "metadata": {},
   "outputs": [],
   "source": [
    "import warnings\n",
    "warnings.filterwarnings(action='ignore')"
   ]
  },
  {
   "cell_type": "code",
   "execution_count": 14,
   "metadata": {},
   "outputs": [
    {
     "output_type": "execute_result",
     "data": {
      "text/plain": [
       "         id                    document  label\n",
       "0   9976970           아 더빙 진짜 짜증나네요 목소리      0\n",
       "1   3819312  흠포스터보고 초딩영화줄오버연기조차 가볍지 않구나      1\n",
       "2  10265843           너무재밓었다그래서보는것을추천한다      0"
      ],
      "text/html": "<div>\n<style scoped>\n    .dataframe tbody tr th:only-of-type {\n        vertical-align: middle;\n    }\n\n    .dataframe tbody tr th {\n        vertical-align: top;\n    }\n\n    .dataframe thead th {\n        text-align: right;\n    }\n</style>\n<table border=\"1\" class=\"dataframe\">\n  <thead>\n    <tr style=\"text-align: right;\">\n      <th></th>\n      <th>id</th>\n      <th>document</th>\n      <th>label</th>\n    </tr>\n  </thead>\n  <tbody>\n    <tr>\n      <th>0</th>\n      <td>9976970</td>\n      <td>아 더빙 진짜 짜증나네요 목소리</td>\n      <td>0</td>\n    </tr>\n    <tr>\n      <th>1</th>\n      <td>3819312</td>\n      <td>흠포스터보고 초딩영화줄오버연기조차 가볍지 않구나</td>\n      <td>1</td>\n    </tr>\n    <tr>\n      <th>2</th>\n      <td>10265843</td>\n      <td>너무재밓었다그래서보는것을추천한다</td>\n      <td>0</td>\n    </tr>\n  </tbody>\n</table>\n</div>"
     },
     "metadata": {},
     "execution_count": 14
    }
   ],
   "source": [
    "# 한글과 공백 이외는 제거\n",
    "train_df['document'] = train_df.document.str.replace('[^ㄱ-ㅎㅏ-ㅣ가-힣 ]','')\n",
    "train_df.head(3)"
   ]
  },
  {
   "cell_type": "code",
   "execution_count": 15,
   "metadata": {},
   "outputs": [
    {
     "output_type": "execute_result",
     "data": {
      "text/plain": [
       "391"
      ]
     },
     "metadata": {},
     "execution_count": 15
    }
   ],
   "source": [
    "# '' 데이터는 Nan으로 변환한 후 제거\n",
    "train_df['document'].replace('', np.nan, inplace=True)\n",
    "train_df.document.isnull().sum()"
   ]
  },
  {
   "cell_type": "code",
   "execution_count": 16,
   "metadata": {},
   "outputs": [
    {
     "output_type": "execute_result",
     "data": {
      "text/plain": [
       "(145791, 3)"
      ]
     },
     "metadata": {},
     "execution_count": 16
    }
   ],
   "source": [
    "# 결측치 제거\n",
    "train_df = train_df.dropna(how='any')\n",
    "train_df.shape"
   ]
  },
  {
   "source": [
    "- test data set"
   ],
   "cell_type": "markdown",
   "metadata": {}
  },
  {
   "cell_type": "code",
   "execution_count": 17,
   "metadata": {},
   "outputs": [],
   "source": [
    "test_df['document'] = test_df.document.str.replace('[^ㄱ-ㅎㅏ-ㅣ가-힣 ]','')"
   ]
  },
  {
   "cell_type": "code",
   "execution_count": 18,
   "metadata": {},
   "outputs": [
    {
     "output_type": "execute_result",
     "data": {
      "text/plain": [
       "162"
      ]
     },
     "metadata": {},
     "execution_count": 18
    }
   ],
   "source": [
    "test_df['document'].replace('', np.nan, inplace=True)\n",
    "test_df.document.isnull().sum()"
   ]
  },
  {
   "cell_type": "code",
   "execution_count": 19,
   "metadata": {},
   "outputs": [
    {
     "output_type": "execute_result",
     "data": {
      "text/plain": [
       "(48995, 3)"
      ]
     },
     "metadata": {},
     "execution_count": 19
    }
   ],
   "source": [
    "test_df = test_df.dropna(how='any')\n",
    "test_df.shape"
   ]
  },
  {
   "source": [
    "- 새로운 파일로 저장"
   ],
   "cell_type": "markdown",
   "metadata": {}
  },
  {
   "cell_type": "code",
   "execution_count": 51,
   "metadata": {},
   "outputs": [],
   "source": [
    "train_df.to_csv('naver_movie_train.tsv', sep = '\\t', index = False)\n",
    "test_df.to_csv('naver_movie_test_df.tsv', sep = '\\t', index = False)"
   ]
  },
  {
   "source": [
    "### 3. 한글 처리"
   ],
   "cell_type": "markdown",
   "metadata": {}
  },
  {
   "cell_type": "code",
   "execution_count": 21,
   "metadata": {},
   "outputs": [],
   "source": [
    "from konlpy.tag import Okt\n",
    "okt = Okt()"
   ]
  },
  {
   "cell_type": "code",
   "execution_count": 22,
   "metadata": {},
   "outputs": [],
   "source": [
    "stopwords = ['은','는','이','가','의','들','좀','잘','걍','과','도','을','를','으로','자','에','와','한','하다']"
   ]
  },
  {
   "cell_type": "code",
   "execution_count": 23,
   "metadata": {},
   "outputs": [
    {
     "output_type": "execute_result",
     "data": {
      "text/plain": [
       "['교도소', '이야기', '구먼', '솔직히', '지루하고', '재미', '는', '없음', '평점', '조정', '해야', '할듯']"
      ]
     },
     "metadata": {},
     "execution_count": 23
    }
   ],
   "source": [
    "text = '교도소 이야기구먼 솔직히 지루하고 재미는 없음평점 조정해야할듯'\n",
    "okt.morphs(text)"
   ]
  },
  {
   "cell_type": "code",
   "execution_count": 24,
   "metadata": {},
   "outputs": [
    {
     "output_type": "execute_result",
     "data": {
      "text/plain": [
       "['교도소', '이야기', '구먼', '솔직하다', '지루하다', '재미', '는', '없다', '평점', '조정', '하다', '하다']"
      ]
     },
     "metadata": {},
     "execution_count": 24
    }
   ],
   "source": [
    "okt.morphs(text, stem=True)"
   ]
  },
  {
   "cell_type": "code",
   "execution_count": 37,
   "metadata": {},
   "outputs": [
    {
     "output_type": "display_data",
     "data": {
      "text/plain": "  0%|          | 0/34 [00:00<?, ?it/s]",
      "application/vnd.jupyter.widget-view+json": {
       "version_major": 2,
       "version_minor": 0,
       "model_id": "a863dc19c2b2419a89f31ecc84e0877a"
      }
     },
     "metadata": {}
    },
    {
     "output_type": "execute_result",
     "data": {
      "text/plain": [
       "<tqdm.notebook.tqdm_notebook at 0x2c95bb03130>"
      ]
     },
     "metadata": {},
     "execution_count": 37
    }
   ],
   "source": [
    "from tqdm import tqdm_notebook\n",
    "tqdm_notebook"
   ]
  },
  {
   "cell_type": "code",
   "execution_count": 25,
   "metadata": {},
   "outputs": [
    {
     "output_type": "display_data",
     "data": {
      "text/plain": "  0%|          | 0/145791 [00:00<?, ?it/s]",
      "application/vnd.jupyter.widget-view+json": {
       "version_major": 2,
       "version_minor": 0,
       "model_id": "159c488532914cc0bfd78ff460a8b8b2"
      }
     },
     "metadata": {}
    }
   ],
   "source": [
    "# X_train\n",
    "from tqdm import tqdm_notebook\n",
    "X_train = []\n",
    "\n",
    "for sentence in tqdm_notebook(train_df.document):\n",
    "    morphs = okt.morphs(sentence, stem=True)\n",
    "    temp_X = ' '.join([word for word in morphs if not word in stopwords])\n",
    "    X_train.append(temp_X)"
   ]
  },
  {
   "cell_type": "code",
   "execution_count": 26,
   "metadata": {},
   "outputs": [
    {
     "output_type": "display_data",
     "data": {
      "text/plain": "  0%|          | 0/48995 [00:00<?, ?it/s]",
      "application/vnd.jupyter.widget-view+json": {
       "version_major": 2,
       "version_minor": 0,
       "model_id": "bdefa62b07c840c289d2d0b776e628e7"
      }
     },
     "metadata": {}
    }
   ],
   "source": [
    "# X_test\n",
    "from tqdm import tqdm_notebook\n",
    "X_test = []\n",
    "\n",
    "for sentence in tqdm_notebook(test_df.document):\n",
    "    morphs = okt.morphs(sentence, stem=True)\n",
    "    temp_X = ' '.join([word for word in morphs if not word in stopwords])\n",
    "    X_test.append(temp_X)"
   ]
  },
  {
   "cell_type": "code",
   "execution_count": 27,
   "metadata": {},
   "outputs": [],
   "source": [
    "y_train = train_df.label.values\n",
    "y_test = test_df.label.values"
   ]
  },
  {
   "source": [
    "### 4. Feature 변환, 모델 학습/예측/평가"
   ],
   "cell_type": "markdown",
   "metadata": {}
  },
  {
   "cell_type": "code",
   "execution_count": 28,
   "metadata": {},
   "outputs": [],
   "source": [
    "from sklearn.feature_extraction.text import CountVectorizer\n",
    "from sklearn.linear_model import LogisticRegression\n",
    "from sklearn.metrics import accuracy_score"
   ]
  },
  {
   "cell_type": "code",
   "execution_count": 29,
   "metadata": {},
   "outputs": [],
   "source": [
    "cvect = CountVectorizer()\n",
    "cvect.fit(X_train)\n",
    "X_train_cv = cvect.transform(X_train)\n",
    "X_test_cv = cvect.transform(X_test)"
   ]
  },
  {
   "cell_type": "code",
   "execution_count": 30,
   "metadata": {},
   "outputs": [
    {
     "output_type": "execute_result",
     "data": {
      "text/plain": [
       "LogisticRegression()"
      ]
     },
     "metadata": {},
     "execution_count": 30
    }
   ],
   "source": [
    "lr = LogisticRegression()\n",
    "lr.fit(X_train_cv, y_train)"
   ]
  },
  {
   "cell_type": "code",
   "execution_count": 31,
   "metadata": {},
   "outputs": [
    {
     "output_type": "execute_result",
     "data": {
      "text/plain": [
       "0.8261659352995203"
      ]
     },
     "metadata": {},
     "execution_count": 31
    }
   ],
   "source": [
    "pred = lr.predict(X_test_cv)\n",
    "accuracy_score(y_test, pred)"
   ]
  },
  {
   "source": [
    "### 5. 실제 테스트"
   ],
   "cell_type": "markdown",
   "metadata": {}
  },
  {
   "cell_type": "code",
   "execution_count": 32,
   "metadata": {},
   "outputs": [],
   "source": [
    "review1 = ' 운 좋게 시사회로 봤는데 진짜 재밌었음.. 올해 본 영화중 최고였음 ㅠ 문화의 날로 할인받아서 엄마랑 볼려고 또 예매함ㅎ'\n",
    "review2 = '그냥 미쳤다. 뭐 하나 빠지는게 없다. 101마리 달마시안 팬들은 영화가 끝난것같아도 나가지말고 일단 앉아있으세요 ㅋㅋㅋㅋ?'"
   ]
  },
  {
   "cell_type": "code",
   "execution_count": 37,
   "metadata": {},
   "outputs": [],
   "source": [
    "review3 = '세상에.. 정말 오랜만에 보는 영화라 기대했는데 기대 이하 정도가 아니라 이 영화를 보느라 할애한 제 귀중한 시간이 아까울 정도였습니다. 유치한 신파 요소는 그렇다 쳐도 영국 배경인데 그 흔한 유머 단 한마디도 없이...'"
   ]
  },
  {
   "cell_type": "code",
   "execution_count": 39,
   "metadata": {},
   "outputs": [],
   "source": [
    "review4='세계에서 제일 매력 있는 빌런 영화'"
   ]
  },
  {
   "cell_type": "code",
   "execution_count": 5,
   "metadata": {},
   "outputs": [
    {
     "output_type": "execute_result",
     "data": {
      "text/plain": [
       "str"
      ]
     },
     "metadata": {},
     "execution_count": 5
    }
   ],
   "source": [
    "type(review1)"
   ]
  },
  {
   "cell_type": "code",
   "execution_count": 12,
   "metadata": {},
   "outputs": [
    {
     "output_type": "execute_result",
     "data": {
      "text/plain": [
       "' 운 좋게 시사회로 봤는데 진짜 재밌었음 올해 본 영화중 최고였음 ㅠ 문화의 날로 할인받아서 엄마랑 볼려고 또 예매함ㅎ'"
      ]
     },
     "metadata": {},
     "execution_count": 12
    }
   ],
   "source": [
    "# 이렇게하면 안됨..이유가 뭘까\n",
    "review1 = review1.replace('[^ㄱ-ㅎㅏ-ㅣ가-힣 ]','')\n",
    "review1"
   ]
  },
  {
   "cell_type": "code",
   "execution_count": 33,
   "metadata": {},
   "outputs": [
    {
     "output_type": "execute_result",
     "data": {
      "text/plain": [
       "' 운 좋게 시사회로 봤는데 진짜 재밌었음 올해 본 영화중 최고였음 ㅠ 문화의 날로 할인받아서 엄마랑 볼려고 또 예매함ㅎ'"
      ]
     },
     "metadata": {},
     "execution_count": 33
    }
   ],
   "source": [
    "# 다른 방법으로 해결\n",
    "import re\n",
    "review1 = re.sub('[^ㄱ-ㅎㅏ-ㅣ가-힣 ]', '', review1)\n",
    "review1"
   ]
  },
  {
   "cell_type": "code",
   "execution_count": 34,
   "metadata": {},
   "outputs": [
    {
     "output_type": "execute_result",
     "data": {
      "text/plain": [
       "'운 좋게 시사회 로 봤는데 진짜 재밌었음 올해 본 영화 중 최고 였음 ㅠ 문화 날로 할인 받아서 엄마 랑 볼려고 또 예매 함 ㅎ'"
      ]
     },
     "metadata": {},
     "execution_count": 34
    }
   ],
   "source": [
    "morphs = okt.morphs(review1)\n",
    "review = ' '.join([word for word in morphs if not word in stopwords])\n",
    "review"
   ]
  },
  {
   "cell_type": "code",
   "execution_count": 35,
   "metadata": {},
   "outputs": [
    {
     "output_type": "stream",
     "name": "stdout",
     "text": [
      "[0]\n0\n"
     ]
    }
   ],
   "source": [
    "review_cv = cvect.transform([review])  # 리스트로 만들어서 넣기\n",
    "pred = lr.predict(review_cv)\n",
    "print(pred)\n",
    "print(pred[0])  # -- 결과: 1을 0으로 예측"
   ]
  },
  {
   "cell_type": "code",
   "execution_count": 36,
   "metadata": {},
   "outputs": [
    {
     "output_type": "stream",
     "name": "stdout",
     "text": [
      "[0]\n0\n"
     ]
    }
   ],
   "source": [
    "# review2 에 대해 동일한 과정을 진행 -- 결과: 1을 0으로 예측\n",
    "\n",
    "review2 = re.sub('[^ㄱ-ㅎㅏ-ㅣ가-힣 ]', '', review2)\n",
    "morphs = okt.morphs(review2)\n",
    "review = ' '.join([word for word in morphs if not word in stopwords])\n",
    "review_cv = cvect.transform([review]) \n",
    "pred = lr.predict(review_cv)\n",
    "print(pred)\n",
    "print(pred[0])"
   ]
  },
  {
   "cell_type": "code",
   "execution_count": 38,
   "metadata": {},
   "outputs": [
    {
     "output_type": "stream",
     "name": "stdout",
     "text": [
      "[0]\n0\n"
     ]
    }
   ],
   "source": [
    "# review3 에 대해 동일한 과정을 진행 -- 결과: 0을 0으로 예측\n",
    "\n",
    "review3 = re.sub('[^ㄱ-ㅎㅏ-ㅣ가-힣 ]', '', review3)\n",
    "morphs = okt.morphs(review3)\n",
    "review = ' '.join([word for word in morphs if not word in stopwords])\n",
    "review_cv = cvect.transform([review]) \n",
    "pred = lr.predict(review_cv)\n",
    "print(pred)\n",
    "print(pred[0])"
   ]
  },
  {
   "cell_type": "code",
   "execution_count": 40,
   "metadata": {},
   "outputs": [
    {
     "output_type": "stream",
     "name": "stdout",
     "text": [
      "[1]\n1\n"
     ]
    }
   ],
   "source": [
    "# review4 에 대해 동일한 과정을 진행 -- 결과: 1을 1로 예측\n",
    "\n",
    "review4 = re.sub('[^ㄱ-ㅎㅏ-ㅣ가-힣 ]', '', review4)\n",
    "morphs = okt.morphs(review4)\n",
    "review = ' '.join([word for word in morphs if not word in stopwords])\n",
    "review_cv = cvect.transform([review]) \n",
    "pred = lr.predict(review_cv)\n",
    "print(pred)\n",
    "print(pred[0])"
   ]
  },
  {
   "cell_type": "code",
   "execution_count": null,
   "metadata": {},
   "outputs": [],
   "source": []
  },
  {
   "source": [
    "- 여러개의 리뷰가 리스트로 주어졌을 때"
   ],
   "cell_type": "markdown",
   "metadata": {}
  },
  {
   "cell_type": "code",
   "execution_count": 41,
   "metadata": {},
   "outputs": [],
   "source": [
    "reviews = ['아름다운 음악과 아름다운 풍광~ 그렇지 못한 현실이 찡하네요~',\n",
    "'메시지와 작위성의 불협화음!!!']"
   ]
  },
  {
   "cell_type": "code",
   "execution_count": 43,
   "metadata": {},
   "outputs": [],
   "source": [
    "review_list = []\n",
    "for review in reviews:\n",
    "    review = re.sub('[^ㄱ-ㅎㅏ-ㅣ가-힣 ]', '', review)\n",
    "    morphs = okt.morphs(review, stem=True)\n",
    "    temp_X = ' '.join([word for word in morphs if not word in stopwords])\n",
    "    review_list.append(temp_X)"
   ]
  },
  {
   "cell_type": "code",
   "execution_count": 44,
   "metadata": {},
   "outputs": [
    {
     "output_type": "execute_result",
     "data": {
      "text/plain": [
       "['아름답다 음악 아름답다 풍 광 그렇다 못 현실 찡하다', '메시지 작위 성의 불협화음']"
      ]
     },
     "metadata": {},
     "execution_count": 44
    }
   ],
   "source": [
    "review_list"
   ]
  },
  {
   "cell_type": "code",
   "execution_count": 45,
   "metadata": {},
   "outputs": [
    {
     "output_type": "execute_result",
     "data": {
      "text/plain": [
       "array([1, 0], dtype=int64)"
      ]
     },
     "metadata": {},
     "execution_count": 45
    }
   ],
   "source": [
    "review_cv = cvect.transform(review_list)\n",
    "pred = lr.predict(review_cv)\n",
    "pred"
   ]
  },
  {
   "source": [
    "### 6. GridSearchCV로 최적 파라미터 찾기"
   ],
   "cell_type": "markdown",
   "metadata": {}
  },
  {
   "cell_type": "code",
   "execution_count": 46,
   "metadata": {},
   "outputs": [],
   "source": [
    "from sklearn.pipeline import Pipeline\n",
    "from sklearn.model_selection import GridSearchCV"
   ]
  },
  {
   "cell_type": "code",
   "execution_count": 47,
   "metadata": {},
   "outputs": [],
   "source": [
    "pipeline = Pipeline([\n",
    "    ('cvect', CountVectorizer()),\n",
    "    ('lr', LogisticRegression())\n",
    "])\n",
    "\n",
    "params = { 'cvect__ngram_range':[(1,1),(1,2)],\n",
    "            'cvect__max_df':[0.9, 0.99],\n",
    "            'cvect__min_df':[1, 3],\n",
    "            'lr__C':[1,5]\n",
    "}"
   ]
  },
  {
   "cell_type": "code",
   "execution_count": 48,
   "metadata": {},
   "outputs": [
    {
     "output_type": "stream",
     "name": "stdout",
     "text": [
      "Wall time: 2min 9s\n{'cvect__max_df': 0.9, 'cvect__min_df': 1, 'cvect__ngram_range': (1, 2), 'lr__C': 1}\n0.8411836121571291\n"
     ]
    }
   ],
   "source": [
    "grid_pipe = GridSearchCV(\n",
    "    pipeline, param_grid=params, cv=3, n_jobs=-1, scoring='accuracy'\n",
    ")\n",
    "%time grid_pipe.fit(X_train, y_train)\n",
    "print(grid_pipe.best_params_)\n",
    "print(grid_pipe.best_score_)"
   ]
  },
  {
   "cell_type": "code",
   "execution_count": 49,
   "metadata": {},
   "outputs": [
    {
     "output_type": "execute_result",
     "data": {
      "text/plain": [
       "0.8466374119808143"
      ]
     },
     "metadata": {},
     "execution_count": 49
    }
   ],
   "source": [
    "pred = grid_pipe.best_estimator_.predict(X_test)\n",
    "accuracy_score(y_test, pred)"
   ]
  },
  {
   "cell_type": "code",
   "execution_count": null,
   "metadata": {},
   "outputs": [],
   "source": []
  }
 ]
}